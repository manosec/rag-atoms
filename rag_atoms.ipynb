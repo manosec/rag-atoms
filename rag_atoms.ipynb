{
 "cells": [
  {
   "cell_type": "code",
   "execution_count": 1,
   "id": "44720edc-c2ca-43e6-81a1-039267e61e59",
   "metadata": {},
   "outputs": [
    {
     "name": "stderr",
     "output_type": "stream",
     "text": [
      "/home/manoranjan.n/jupyter/jupyter_env/lib/python3.10/site-packages/sentence_transformers/cross_encoder/CrossEncoder.py:11: TqdmWarning: IProgress not found. Please update jupyter and ipywidgets. See https://ipywidgets.readthedocs.io/en/stable/user_install.html\n",
      "  from tqdm.autonotebook import tqdm, trange\n"
     ]
    }
   ],
   "source": [
    "from sentence_transformers import SentenceTransformer\n",
    "import numpy as np\n",
    "import matplotlib.pyplot as plt\n",
    "import seaborn as sns\n",
    "import pandas as pd"
   ]
  },
  {
   "cell_type": "markdown",
   "id": "ae683719-3259-427f-a708-355fc4e7952b",
   "metadata": {},
   "source": [
    "#### ***Calculating the Sentence Similarity***"
   ]
  },
  {
   "cell_type": "code",
   "execution_count": 18,
   "id": "5a5b6d34-a835-428e-a8ea-5f32feb74243",
   "metadata": {},
   "outputs": [],
   "source": [
    "def dot_product(query_vector, document_vector):\n",
    "    document_score = {}\n",
    "    for document_name, vector in document_vector.items():\n",
    "        document_score[document_name] = np.dot(query_vector, vector)\n",
    "    return document_score"
   ]
  },
  {
   "cell_type": "markdown",
   "id": "0a6f859d-c490-4ee3-9e6f-459027ee6a13",
   "metadata": {},
   "source": [
    "#### ***Generating the Vector/Embeddings for our text***"
   ]
  },
  {
   "cell_type": "code",
   "execution_count": 3,
   "id": "812b145d-7238-41a2-9493-88e3d7f1fca4",
   "metadata": {},
   "outputs": [],
   "source": [
    "def encode_documents(documents:list, model):\n",
    "    document_vector = {}\n",
    "    for document in documents:\n",
    "        document_vector[document] = model.encode(document)\n",
    "    return document_vector     "
   ]
  },
  {
   "cell_type": "markdown",
   "id": "abd4aaab-144c-4f16-9103-6269a5d72a94",
   "metadata": {},
   "source": [
    "#### ***Embedding/Encoder Model Instantiate***"
   ]
  },
  {
   "cell_type": "code",
   "execution_count": 19,
   "id": "25fd616c-f6ae-4d78-b1af-edbe3f1e6f1d",
   "metadata": {},
   "outputs": [
    {
     "name": "stderr",
     "output_type": "stream",
     "text": [
      "/home/manoranjan.n/jupyter/jupyter_env/lib/python3.10/site-packages/huggingface_hub/file_download.py:1132: FutureWarning: `resume_download` is deprecated and will be removed in version 1.0.0. Downloads always resume when possible. If you want to force a new download, use `force_download=True`.\n",
      "  warnings.warn(\n"
     ]
    }
   ],
   "source": [
    "model = SentenceTransformer('intfloat/e5-small-v2')"
   ]
  },
  {
   "cell_type": "markdown",
   "id": "63efc0af-2a6b-45fe-a0f4-5386b2658143",
   "metadata": {},
   "source": [
    "#### ***Atoms***"
   ]
  },
  {
   "cell_type": "code",
   "execution_count": 5,
   "id": "c1c4fff4-c886-49c0-bdd0-0bd6e52678dc",
   "metadata": {},
   "outputs": [],
   "source": [
    "query = \"I love Machine learning\""
   ]
  },
  {
   "cell_type": "code",
   "execution_count": 6,
   "id": "9378f410-b772-43ac-9725-7da48e8bcaed",
   "metadata": {},
   "outputs": [],
   "source": [
    "documents = ['anger', 'love', 'joy', 'sad', 'laugh']"
   ]
  },
  {
   "cell_type": "code",
   "execution_count": 7,
   "id": "03367d78-aa10-48b2-b163-86f059e1a3fd",
   "metadata": {},
   "outputs": [],
   "source": [
    "document_encoded = encode_documents(documents, model)"
   ]
  },
  {
   "cell_type": "code",
   "execution_count": 8,
   "id": "403c4eb5-fd98-41f3-a7c8-4fd19ad6d68a",
   "metadata": {},
   "outputs": [],
   "source": [
    "document_similarity = dot_product(model.encode(query), document_encoded)"
   ]
  },
  {
   "cell_type": "code",
   "execution_count": 9,
   "id": "14dfb763-f9f5-41c5-b35d-b33776426f6d",
   "metadata": {},
   "outputs": [
    {
     "data": {
      "text/plain": [
       "{'anger': 0.7448547,\n",
       " 'love': 0.8211584,\n",
       " 'joy': 0.7735107,\n",
       " 'sad': 0.7654619,\n",
       " 'laugh': 0.7703371}"
      ]
     },
     "execution_count": 9,
     "metadata": {},
     "output_type": "execute_result"
    }
   ],
   "source": [
    "document_similarity"
   ]
  },
  {
   "cell_type": "code",
   "execution_count": 10,
   "id": "739f3680-f987-45e9-b8d6-9e56c53f6567",
   "metadata": {},
   "outputs": [],
   "source": [
    "df = pd.DataFrame(list(document_similarity.items()), columns = [\"Words\", \"Score\"])"
   ]
  },
  {
   "cell_type": "code",
   "execution_count": 11,
   "id": "590e3ecd-007d-43b1-8b14-d49714f61395",
   "metadata": {},
   "outputs": [
    {
     "name": "stderr",
     "output_type": "stream",
     "text": [
      "/tmp/ipykernel_54898/885780234.py:3: FutureWarning: \n",
      "\n",
      "Passing `palette` without assigning `hue` is deprecated and will be removed in v0.14.0. Assign the `x` variable to `hue` and set `legend=False` for the same effect.\n",
      "\n",
      "  sns.barplot(x='Words', y='Score', data=df, palette='viridis')\n"
     ]
    },
    {
     "data": {
      "image/png": "[encoded data removed]",
      "text/plain": [
       "<Figure size 700x500 with 1 Axes>"
      ]
     },
     "metadata": {},
     "output_type": "display_data"
    }
   ],
   "source": [
    "# Plotting\n",
    "plt.figure(figsize=(7, 5))\n",
    "sns.barplot(x='Words', y='Score', data=df, palette='viridis')\n",
    "\n",
    "# Adding title and labels\n",
    "plt.title(f'Similarity Scores for the word \"{query}\"')\n",
    "plt.xlabel('Words')\n",
    "plt.ylabel('Score')\n",
    "plt.ylim(0, 1)\n",
    "\n",
    "plt.yticks([i * 0.1 for i in range(0, 11)])\n",
    "# Show plot\n",
    "plt.show()"
   ]
  },
  {
   "cell_type": "code",
   "execution_count": 12,
   "id": "f0b258fc-b9e0-4094-bcc7-207787957712",
   "metadata": {},
   "outputs": [],
   "source": [
    "from langchain_groq import ChatGroq"
   ]
  },
  {
   "cell_type": "code",
   "execution_count": 21,
   "id": "22da9823-5f0b-4fde-877a-c99779a9707c",
   "metadata": {},
   "outputs": [],
   "source": [
    "high_score_document = max(document_similarity, key=document_similarity.get)"
   ]
  },
  {
   "cell_type": "code",
   "execution_count": 22,
   "id": "0a86ce7d-7dce-4617-bacd-82a441b4f3c7",
   "metadata": {},
   "outputs": [
    {
     "name": "stdout",
     "output_type": "stream",
     "text": [
      "love\n",
      "I love Machine learning\n"
     ]
    }
   ],
   "source": [
    "print(high_score_document)\n",
    "print(query)"
   ]
  },
  {
   "cell_type": "code",
   "execution_count": 15,
   "id": "faa9475b-a6c5-486c-88a2-10a30b10aa61",
   "metadata": {},
   "outputs": [],
   "source": [
    "llm = ChatGroq(groq_api_key=\"\")"
   ]
  },
  {
   "cell_type": "code",
   "execution_count": 16,
   "id": "e815b103-ab57-4d6f-8b45-e815e2b9a18f",
   "metadata": {},
   "outputs": [],
   "source": [
    "response = llm.invoke(\n",
    "    f\"\"\"Provided two words, tell me a 3 line story using the same\"\n",
    "    word 1: {query}\n",
    "    word 2: {high_score_document}\n",
    "\"\"\")"
   ]
  },
  {
   "cell_type": "code",
   "execution_count": 17,
   "id": "9be95b85-57e1-4e89-a439-0f001c399237",
   "metadata": {},
   "outputs": [
    {
     "data": {
      "text/plain": [
       "'John had always been passionate about machine learning. He loved how it could analyze large datasets and make accurate predictions. However, his love for machine learning often led to long hours spent in front of his computer, neglecting his relationships.\\n\\nOne day, his girlfriend Sarah confronted him about his obsession. She expressed her anger and frustration about how he prioritized his work over their relationship. Sarah felt ignored and unimportant, which led to several heated arguments.\\n\\nJohn realized that he needed to find a balance between his work and personal life. He decided to set boundaries and dedicate specific time for his relationship. This way, he could continue pursuing his love for machine learning without compromising his relationship with Sarah.'"
      ]
     },
     "execution_count": 17,
     "metadata": {},
     "output_type": "execute_result"
    }
   ],
   "source": [
    "response.content"
   ]
  },
  {
   "cell_type": "code",
   "execution_count": null,
   "id": "76c2d004-4f80-4ad7-8996-177235d8dcdd",
   "metadata": {},
   "outputs": [],
   "source": []
  }
 ],
 "metadata": {
  "kernelspec": {
   "display_name": "Python 3 (ipykernel)",
   "language": "python",
   "name": "python3"
  },
  "language_info": {
   "codemirror_mode": {
    "name": "ipython",
    "version": 3
   },
   "file_extension": ".py",
   "mimetype": "text/x-python",
   "name": "python",
   "nbconvert_exporter": "python",
   "pygments_lexer": "ipython3",
   "version": "3.10.14"
  }
 },
 "nbformat": 4,
 "nbformat_minor": 5
}
